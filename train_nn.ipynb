{
 "cells": [
  {
   "cell_type": "code",
   "execution_count": 1,
   "id": "d6aec4ed",
   "metadata": {},
   "outputs": [],
   "source": [
    "import numpy as np\n",
    "import argparse\n",
    "from datasets.config import ModelConfig\n",
    "from modules.basic_nn import BasicRS\n",
    "from utils.train_util import set_seed\n",
    "from torch.utils.data import DataLoader\n",
    "from datasets.dl import FNNData\n",
    "import torch.nn.functional as F\n",
    "import torch\n",
    "import os\n",
    "from tqdm import tqdm"
   ]
  },
  {
   "cell_type": "code",
   "execution_count": 2,
   "id": "4b3dcaea",
   "metadata": {},
   "outputs": [],
   "source": [
    "set_seed(7)\n",
    "dpath = 'data'"
   ]
  },
  {
   "cell_type": "code",
   "execution_count": 3,
   "id": "80742176",
   "metadata": {},
   "outputs": [],
   "source": [
    "trainp = os.path.join(dpath, 'train.npy')\n",
    "devp = os.path.join(dpath, 'valid.npy')"
   ]
  },
  {
   "cell_type": "code",
   "execution_count": 4,
   "id": "0359d418",
   "metadata": {},
   "outputs": [],
   "source": [
    "trainset = FNNData(np.load(trainp))\n",
    "validset = FNNData(np.load(devp))"
   ]
  },
  {
   "cell_type": "code",
   "execution_count": 5,
   "id": "c5ca92cc",
   "metadata": {},
   "outputs": [],
   "source": [
    "train_data_loader = DataLoader(trainset, batch_size=128, shuffle=True, num_workers=4, pin_memory=True)\n",
    "valid_data_loader = DataLoader(validset, batch_size=128, shuffle=False, num_workers=4, pin_memory=True)"
   ]
  },
  {
   "cell_type": "code",
   "execution_count": 6,
   "id": "78967187",
   "metadata": {},
   "outputs": [],
   "source": [
    "model = BasicRS(ModelConfig())"
   ]
  },
  {
   "cell_type": "code",
   "execution_count": 7,
   "id": "a8cd5765",
   "metadata": {},
   "outputs": [],
   "source": [
    "optimizer = torch.optim.Adam(params=model.parameters(), lr=0.001)"
   ]
  },
  {
   "cell_type": "code",
   "execution_count": null,
   "id": "4f2df9da",
   "metadata": {},
   "outputs": [
    {
     "name": "stderr",
     "output_type": "stream",
     "text": [
      "EP-0 train loss: 1.1370081901550293: 100%|█████████████████████████████████████████████████████████████████████████████████████████████████████| 4185/4185 [00:48<00:00, 86.79it/s]\n"
     ]
    },
    {
     "name": "stdout",
     "output_type": "stream",
     "text": [
      "epoch 0 end\n"
     ]
    },
    {
     "name": "stderr",
     "output_type": "stream",
     "text": [
      "EP-1 train loss: 1.0683177709579468:  35%|███████████████████████████████████▌                                                                 | 1473/4185 [00:42<00:50, 53.63it/s]"
     ]
    }
   ],
   "source": [
    "for epoch in range(2):\n",
    "    model.train()\n",
    "    model.zero_grad()\n",
    "    index = 0\n",
    "    steps_one_epoch = len(train_data_loader)\n",
    "    enum_dataloader = tqdm(train_data_loader, total=steps_one_epoch, desc=\"EP-{} train\".format(epoch))\n",
    "    loss_list = []\n",
    "    for data in enum_dataloader:\n",
    "        data = data.type(torch.LongTensor)\n",
    "        pred = model(data[:, 2:])\n",
    "        loss = F.cross_entropy(pred, data[:, 1])\n",
    "        loss_list.append(loss)\n",
    "\n",
    "        loss.backward()\n",
    "        optimizer.step()\n",
    "        model.zero_grad()\n",
    "\n",
    "        enum_dataloader.set_description(\"EP-{} train loss: {}\".format(epoch, loss))\n",
    "        enum_dataloader.refresh()\n",
    "        index += 1\n",
    "    \n",
    "    print('epoch {} end'.format(epoch))"
   ]
  },
  {
   "cell_type": "code",
   "execution_count": null,
   "id": "77602c7b",
   "metadata": {},
   "outputs": [],
   "source": []
  }
 ],
 "metadata": {
  "kernelspec": {
   "display_name": "Python 3 (ipykernel)",
   "language": "python",
   "name": "python3"
  },
  "language_info": {
   "codemirror_mode": {
    "name": "ipython",
    "version": 3
   },
   "file_extension": ".py",
   "mimetype": "text/x-python",
   "name": "python",
   "nbconvert_exporter": "python",
   "pygments_lexer": "ipython3",
   "version": "3.9.7"
  }
 },
 "nbformat": 4,
 "nbformat_minor": 5
}
