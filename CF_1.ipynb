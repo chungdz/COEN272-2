{
 "cells": [
  {
   "cell_type": "code",
   "execution_count": 1,
   "id": "fb7c854c",
   "metadata": {},
   "outputs": [],
   "source": [
    "from modules.cf_basic import CFBasic\n",
    "import pickle\n",
    "import os"
   ]
  },
  {
   "cell_type": "code",
   "execution_count": 2,
   "id": "ee0bf51d",
   "metadata": {},
   "outputs": [],
   "source": [
    "dpath = 'data'"
   ]
  },
  {
   "cell_type": "code",
   "execution_count": 3,
   "id": "337d8d92",
   "metadata": {},
   "outputs": [],
   "source": [
    "udict = pickle.load(open(os.path.join(dpath, 'udict.pkl'), 'rb'))\n",
    "mdict = pickle.load(open(os.path.join(dpath, 'mdict.pkl'), 'rb'))\n",
    "test5 = pickle.load(open(os.path.join(dpath, 'test5.pkl'), 'rb'))\n",
    "test10 = pickle.load(open(os.path.join(dpath, 'test10.pkl'), 'rb'))\n",
    "test20 = pickle.load(open(os.path.join(dpath, 'test20.pkl'), 'rb'))"
   ]
  },
  {
   "cell_type": "code",
   "execution_count": 4,
   "id": "9faa0bac",
   "metadata": {},
   "outputs": [],
   "source": [
    "cfb = CFBasic(udict, mdict)"
   ]
  },
  {
   "cell_type": "code",
   "execution_count": 5,
   "id": "1cf588f3",
   "metadata": {},
   "outputs": [
    {
     "name": "stderr",
     "output_type": "stream",
     "text": [
      "100%|████████████████████████████████████████████████████████████████████████████████| 100/100 [00:00<00:00, 544.80it/s]\n"
     ]
    }
   ],
   "source": [
    "res5 = cfb.cf(test5)\n",
    "res5.to_csv(os.path.join(dpath, 'score5_cf1.txt'), index=None, header=None, sep=' ')"
   ]
  },
  {
   "cell_type": "code",
   "execution_count": 6,
   "id": "af3fefcb",
   "metadata": {},
   "outputs": [
    {
     "name": "stderr",
     "output_type": "stream",
     "text": [
      "100%|████████████████████████████████████████████████████████████████████████████████| 100/100 [00:00<00:00, 418.27it/s]\n"
     ]
    }
   ],
   "source": [
    "res10 = cfb.cf(test10)\n",
    "res10.to_csv(os.path.join(dpath, 'score10_cf1.txt'), index=None, header=None, sep=' ')"
   ]
  },
  {
   "cell_type": "code",
   "execution_count": 7,
   "id": "a4cddb99",
   "metadata": {},
   "outputs": [
    {
     "name": "stderr",
     "output_type": "stream",
     "text": [
      "100%|████████████████████████████████████████████████████████████████████████████████| 100/100 [00:00<00:00, 276.33it/s]\n"
     ]
    }
   ],
   "source": [
    "res20 = cfb.cf(test20)\n",
    "res20.to_csv(os.path.join(dpath, 'score20_cf1.txt'), index=None, header=None, sep=' ')"
   ]
  },
  {
   "cell_type": "code",
   "execution_count": 8,
   "id": "c59af7c8",
   "metadata": {},
   "outputs": [
    {
     "data": {
      "text/plain": [
       "4    3777\n",
       "3    2888\n",
       "5     815\n",
       "2     472\n",
       "1      45\n",
       "Name: ratings, dtype: int64"
      ]
     },
     "execution_count": 8,
     "metadata": {},
     "output_type": "execute_result"
    }
   ],
   "source": [
    "res5['ratings'].value_counts()"
   ]
  },
  {
   "cell_type": "code",
   "execution_count": null,
   "id": "5d094dd5",
   "metadata": {},
   "outputs": [],
   "source": []
  },
  {
   "cell_type": "code",
   "execution_count": null,
   "id": "6abd0053",
   "metadata": {},
   "outputs": [],
   "source": []
  }
 ],
 "metadata": {
  "kernelspec": {
   "display_name": "Python 3 (ipykernel)",
   "language": "python",
   "name": "python3"
  },
  "language_info": {
   "codemirror_mode": {
    "name": "ipython",
    "version": 3
   },
   "file_extension": ".py",
   "mimetype": "text/x-python",
   "name": "python",
   "nbconvert_exporter": "python",
   "pygments_lexer": "ipython3",
   "version": "3.9.7"
  }
 },
 "nbformat": 4,
 "nbformat_minor": 5
}
